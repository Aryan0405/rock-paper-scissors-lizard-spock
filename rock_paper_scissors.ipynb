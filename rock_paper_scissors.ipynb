{
 "cells": [
  {
   "cell_type": "markdown",
   "id": "77c69ab7-ff6c-4096-8437-e6d72ba0982a",
   "metadata": {},
   "source": [
    "ROCK PAPER SCISSORS LIZARD SPOCK"
   ]
  },
  {
   "cell_type": "markdown",
   "id": "f3ee6874-4810-47e2-8a65-3a58163748b0",
   "metadata": {},
   "source": [
    "RULES OF THE GAME\n",
    "\n",
    "Scissors cut Paper.\n",
    "Paper covers Rock.\n",
    "Rock crushes Lizard.\n",
    "Lizard poisons Spock.\n",
    "Spock smashes Scissors.\n",
    "Scissors beat Lizard.\n",
    "Lizard eats Paper.\n",
    "Paper disproves Spock.\n",
    "Spock vaporizes Rock.\n",
    "Rock breaks Scissors\n",
    "\n",
    "Rules which were not there in the usual game:\n",
    "Rock crushes Lizard.\n",
    "Lizard poisons Spock.\n",
    "Spock smashes Scissors.\n",
    "Scissors beat Lizard.\n",
    "Lizard eats Paper.\n",
    "Paper disproves Spock.\n",
    "Spock vaporizes Rock.\n",
    "\n",
    "Spock, being a character of pure logic, is \"disproven\" by the simplicity of paper. It's a playful twist on his intellectual nature, as if a logical argument (Spock) can be refuted or rendered invalid by a simple document (paper).\n",
    "\n",
    "In essence, it's just one of the ten unique winning/losing relationships in the expanded game, adding more complexity and reducing the chance of ties compared to the original Rock-Paper-Scissors."
   ]
  },
  {
   "cell_type": "markdown",
   "id": "bb9dad43-4b88-4483-aff5-3cd8c66a7dc4",
   "metadata": {},
   "source": [
    "1) ✊\n",
    "2) ✋\n",
    "3) ✌️\n",
    "4) 🦎\n",
    "5) 🖖"
   ]
  },
  {
   "cell_type": "code",
   "execution_count": 1,
   "id": "608a9fcf-7e0d-4b93-872b-d01a557248e1",
   "metadata": {},
   "outputs": [
    {
     "name": "stdin",
     "output_type": "stream",
     "text": [
      "Enter a number between 1 and 5:  4\n"
     ]
    },
    {
     "name": "stdout",
     "output_type": "stream",
     "text": [
      "You chose = 🦎\n",
      "Computer chose = 🦎\n",
      "It's a tie!\n"
     ]
    }
   ],
   "source": [
    "import random \n",
    "computer = random.randint(1,5)\n",
    "player = int(input(\"Enter a number between 1 and 5: \" ))\n",
    "    \n",
    "if player == 1:\n",
    "    print(\"You chose = ✊\")\n",
    "elif player==2:\n",
    "    print(\"You chose = ✋\")\n",
    "elif player==3:\n",
    "    print(\"You chose = ✌️\")\n",
    "elif player==4:\n",
    "    print(\"You chose = 🦎\")\n",
    "else:\n",
    "    print(\"You chose = 🖖\")\n",
    "\n",
    "if computer == 1:\n",
    "    print(\"Computer chose = ✊\")\n",
    "elif computer ==2:\n",
    "    print(\"Computer chose = ✋\")\n",
    "elif computer==3:\n",
    "    print(\"Computer chose = ✌️\")\n",
    "elif computer==4:\n",
    "    print(\"Computer chose = 🦎\")\n",
    "else:\n",
    "    print(\"Computer chose = 🖖\")\n",
    "\n",
    "if player == computer:\n",
    "    print(\"It's a tie!\")\n",
    "else:\n",
    "  if (player == 1 and (computer == 3 or computer == 4)) or \\\n",
    "       (player == 2 and (computer == 1 or computer == 5)) or \\\n",
    "       (player == 3 and (computer == 2 or computer == 4)) or \\\n",
    "       (player == 4 and (computer == 2 or computer == 5)) or \\\n",
    "       (player == 5 and (computer == 1 or computer == 3)):\n",
    "        print(\"You won!\")\n",
    "  else:\n",
    "        print(\"You lost!\")"
   ]
  },
  {
   "cell_type": "code",
   "execution_count": null,
   "id": "e92440b2-eb29-4aaf-9f94-79b9aabdbb70",
   "metadata": {},
   "outputs": [],
   "source": []
  }
 ],
 "metadata": {
  "kernelspec": {
   "display_name": "Python [conda env:base] *",
   "language": "python",
   "name": "conda-base-py"
  },
  "language_info": {
   "codemirror_mode": {
    "name": "ipython",
    "version": 3
   },
   "file_extension": ".py",
   "mimetype": "text/x-python",
   "name": "python",
   "nbconvert_exporter": "python",
   "pygments_lexer": "ipython3",
   "version": "3.13.5"
  }
 },
 "nbformat": 4,
 "nbformat_minor": 5
}
